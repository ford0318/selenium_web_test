{
 "cells": [
  {
   "cell_type": "code",
   "execution_count": 1,
   "metadata": {},
   "outputs": [],
   "source": [
    "from Crypto.Cipher import AES\n",
    "\n",
    "class AES_test:\n",
    "    def __init__(self,hex_string,hex_key):\n",
    "        self.data = bytes.fromhex(hex_string)\n",
    "        self.key = bytes.fromhex(hex_key)\n",
    "        self._IV = 16 * '\\x00'\n",
    "\n",
    "    def aes_encrypt(self):\n",
    "        cryptor = AES.new(self.key, AES.MODE_CBC, self._IV)\n",
    "        return cryptor.encrypt(self.data)\n",
    "\n",
    "    def aes_decrypt(self):\n",
    "        unpad = lambda s : s[0:s[-1]]\n",
    "        cryptor = AES.new(self.key, AES.MODE_CBC, self._IV)\n",
    "        a=unpad(cryptor.decrypt(self.data)).decode('utf-8').strip()\n",
    "        return a"
   ]
  },
  {
   "cell_type": "code",
   "execution_count": null,
   "metadata": {},
   "outputs": [],
   "source": [
    "hex_key = 'D66A048AF9066E68C78BE48D6800267D88B2CD2049E442C5E743E5D2465513CC'"
   ]
  },
  {
   "cell_type": "code",
   "execution_count": null,
   "metadata": {},
   "outputs": [],
   "source": [
    "AES_test('240e1968fe8c2f6894ce155312f35b5a3e6211f7e4bd0da52cdd923fbd68c719',)"
   ]
  }
 ],
 "metadata": {
  "kernelspec": {
   "display_name": "Python 3",
   "language": "python",
   "name": "python3"
  },
  "language_info": {
   "codemirror_mode": {
    "name": "ipython",
    "version": 3
   },
   "file_extension": ".py",
   "mimetype": "text/x-python",
   "name": "python",
   "nbconvert_exporter": "python",
   "pygments_lexer": "ipython3",
   "version": "3.7.6"
  }
 },
 "nbformat": 4,
 "nbformat_minor": 4
}
